{
 "cells": [
  {
   "cell_type": "code",
   "execution_count": 1,
   "id": "20002ac8-be5a-4c6d-bcfc-9afa0f3710a3",
   "metadata": {},
   "outputs": [],
   "source": [
    "import sys\n",
    "from super_gradients.common.object_names import Models\n",
    "from super_gradients.training import models\n",
    "from super_gradients.training.utils.quantization.selective_quantization_utils import SelectiveQuantizer\n",
    "from super_gradients.training.utils.quantization.calibrator import QuantizationCalibrator\n",
    "sys.stdout = sys.__stdout__\n",
    "print(\"xxx\")"
   ]
  },
  {
   "cell_type": "code",
   "execution_count": 3,
   "id": "5f04406f-a279-4058-a371-e1ebaee5bdfd",
   "metadata": {
    "scrolled": true,
    "tags": []
   },
   "outputs": [
    {
     "name": "stderr",
     "output_type": "stream",
     "text": [
      "Predicting Video:   0%|                                                                                       | 0/148 [00:04<?, ?it/s]\n",
      "\n",
      "KeyboardInterrupt\n",
      "\n"
     ]
    }
   ],
   "source": [
    "# image_processor = ComposeProcessing(\n",
    "#     [\n",
    "#         DetectionLongestMaxSizeRescale(output_shape=(636, 636)),\n",
    "#         DetectionCenterPadding(output_shape=(640, 640), pad_value=114),\n",
    "#         StandardizeImage(max_value=255.0),\n",
    "#         ImagePermute(permutation=(2, 0, 1)),\n",
    "#     ]\n",
    "# )\n",
    "\n",
    "model = models.get(Models.YOLO_NAS_S, pretrained_weights=\"coco\")\n",
    "# model.set_dataset_processing_params(\n",
    "#    class_names = [\"car\",\"motorcycle\",\"bus\",\"truck\"],\n",
    "#     image_processor = image_processor\n",
    "#     )\n",
    "\n",
    "images_predictions = model.predict(\"C:/Users/chids/vehicle_detection_yolov8/ultralytics/vid_rangsit/rangsit_5sec.mp4\") \n",
    "images_predictions.save(\"result.mp4\")"
   ]
  },
  {
   "cell_type": "code",
   "execution_count": 4,
   "id": "dfa64588-4bb3-4984-8c8d-a0cda49ff7f6",
   "metadata": {
    "scrolled": true,
    "tags": []
   },
   "outputs": [],
   "source": [
    "model = models.get(Models.YOLO_NAS_S, pretrained_weights=\"coco\")\n",
    "\n",
    "# images_predictions.save(\"C:/Users/chids/vehicle_detection_yolov8/ultralytics/runs/detect/predict40/\")\n",
    "#images_predictions.show()\n",
    "q_util = SelectiveQuantizer(\n",
    "    default_quant_modules_calibrator_weights=\"max\",\n",
    "    default_quant_modules_calibrator_inputs=\"histogram\",\n",
    "    default_per_channel_quant_weights=True,\n",
    "    default_learn_amax=False,\n",
    "    verbose=True,\n",
    ")\n",
    "\n",
    "q_util.quantize_module(model)\n",
    "#models.convert_to_onnx(model=model, input_shape=(3,640,640), out_path=\"yolo_nas_s_int8.onnx\",torch_onnx_export_kwargs={\"opset_version\":12})"
   ]
  },
  {
   "cell_type": "code",
   "execution_count": 15,
   "id": "cd756984-e6e4-4408-bbcb-f6b2e2010ec6",
   "metadata": {},
   "outputs": [],
   "source": [
    "%%timeit 60\n",
    "images_predictions = model.predict(\"C:/Users/chids/Downloads/original1.jpg\") "
   ]
  },
  {
   "cell_type": "code",
   "execution_count": 6,
   "id": "51a16a1b-f415-43d9-bf3f-144d72a664cb",
   "metadata": {},
   "outputs": [
    {
     "data": {
      "text/plain": [
       "array([[[  0,   0,   0],\n",
       "        [  4,   4,   2],\n",
       "        [  0,   0,   0],\n",
       "        ...,\n",
       "        [255, 251, 248],\n",
       "        [255, 251, 248],\n",
       "        [254, 250, 247]],\n",
       "\n",
       "       [[  0,   0,   0],\n",
       "        [252, 252, 250],\n",
       "        [  2,   2,   2],\n",
       "        ...,\n",
       "        [254, 250, 247],\n",
       "        [255, 252, 249],\n",
       "        [255, 253, 250]],\n",
       "\n",
       "       [[  0,   0,   2],\n",
       "        [255, 255, 255],\n",
       "        [  0,   0,   2],\n",
       "        ...,\n",
       "        [255, 251, 248],\n",
       "        [255, 250, 247],\n",
       "        [254, 249, 246]],\n",
       "\n",
       "       ...,\n",
       "\n",
       "       [[111,  97,  22],\n",
       "        [103,  89,  14],\n",
       "        [123, 109,  36],\n",
       "        ...,\n",
       "        [ 49,  66,  76],\n",
       "        [ 50,  67,  75],\n",
       "        [ 49,  66,  74]],\n",
       "\n",
       "       [[112,  98,  23],\n",
       "        [103,  89,  14],\n",
       "        [130, 116,  43],\n",
       "        ...,\n",
       "        [ 50,  67,  77],\n",
       "        [ 51,  68,  76],\n",
       "        [ 50,  67,  75]],\n",
       "\n",
       "       [[111,  97,  22],\n",
       "        [105,  91,  16],\n",
       "        [138, 124,  51],\n",
       "        ...,\n",
       "        [ 50,  67,  77],\n",
       "        [ 50,  67,  75],\n",
       "        [ 50,  67,  75]]], dtype=uint8)"
      ]
     },
     "execution_count": 6,
     "metadata": {},
     "output_type": "execute_result"
    }
   ],
   "source": [
    "images_predictions[0].image"
   ]
  },
  {
   "cell_type": "code",
   "execution_count": 5,
   "id": "328ad896-6e23-4d5a-a89b-e734147d2494",
   "metadata": {},
   "outputs": [
    {
     "data": {
      "text/plain": [
       "'C:\\\\Users\\\\chids\\\\OneDrive\\\\Desktop\\\\super-gradients'"
      ]
     },
     "execution_count": 5,
     "metadata": {},
     "output_type": "execute_result"
    }
   ],
   "source": [
    "%pwd"
   ]
  },
  {
   "cell_type": "code",
   "execution_count": null,
   "id": "b2865128-9ee3-46a6-bbb3-091dc5515b0b",
   "metadata": {},
   "outputs": [],
   "source": []
  }
 ],
 "metadata": {
  "kernelspec": {
   "display_name": "yolo_nas",
   "language": "python",
   "name": "yolo_nas"
  },
  "language_info": {
   "codemirror_mode": {
    "name": "ipython",
    "version": 3
   },
   "file_extension": ".py",
   "mimetype": "text/x-python",
   "name": "python",
   "nbconvert_exporter": "python",
   "pygments_lexer": "ipython3",
   "version": "3.9.6"
  }
 },
 "nbformat": 4,
 "nbformat_minor": 5
}
